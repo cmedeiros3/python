{
 "cells": [
  {
   "cell_type": "code",
   "execution_count": 12,
   "metadata": {},
   "outputs": [
    {
     "name": "stdout",
     "output_type": "stream",
     "text": [
      "  Number String Boolean\n",
      "0      1  First    True\n",
      "  Number String Boolean\n",
      "0      1  First    True\n",
      "1      1  First    True\n",
      "  Number String Boolean\n",
      "0      1  First    True\n",
      "1      1  First    True\n",
      "2      1  First    True\n",
      "  Number  String Boolean\n",
      "0      1   First    True\n",
      "1      1   First    True\n",
      "2      1   First    True\n",
      "3      2  Second    True\n",
      "  Number  String Boolean\n",
      "0      1   First    True\n",
      "1      1   First    True\n",
      "2      1   First    True\n",
      "3      2  Second    True\n",
      "4      2  Second    True\n",
      "  Number  String Boolean\n",
      "0      1   First    True\n",
      "1      1   First    True\n",
      "2      1   First    True\n",
      "3      2  Second    True\n",
      "4      2  Second    True\n",
      "5      3   Third    True\n"
     ]
    }
   ],
   "source": [
    "#read from webservices/api (read xml)\n",
    "from lxml import objectify\n",
    "import pandas as pd\n",
    "xml = objectify.parse(open('XMLData.xml'))\n",
    "root = xml.getroot()\n",
    "df = pd.DataFrame(columns=('Number', 'String', 'Boolean'))\n",
    "for i in range(0,6):\n",
    "    obj = root.getchildren()[i].getchildren()\n",
    "    #print(obj)\n",
    "    row = dict(zip(['Number', 'String', 'Boolean'],\n",
    "    [obj[0].text, obj[1].text,\n",
    "    obj[2].text]))\n",
    "    row_s = pd.Series(row)\n",
    "    row_s.name = i\n",
    "    df = df.append(row_s)\n",
    "    print (df)"
   ]
  },
  {
   "cell_type": "code",
   "execution_count": 20,
   "metadata": {},
   "outputs": [
    {
     "name": "stdout",
     "output_type": "stream",
     "text": [
      "  Number  String Boolean\n",
      "0      1   First    True\n",
      "1      1   First    True\n",
      "2      1   First    True\n",
      "3      2  Second    True\n",
      "4      2  Second    True\n",
      "5      3   Third    True\n",
      "1    True\n",
      "2    True\n",
      "4    True\n",
      "dtype: bool\n"
     ]
    }
   ],
   "source": [
    "#find duplicate\n",
    "from lxml import objectify\n",
    "import pandas as pd\n",
    "xml = objectify.parse(open('XMLData.xml'))\n",
    "root = xml.getroot()\n",
    "df = pd.DataFrame(columns=('Number', 'String', 'Boolean'))\n",
    "for i in range(0,6):\n",
    "    obj = root.getchildren()[i].getchildren()\n",
    "    row = dict(zip(['Number', 'String', 'Boolean'],\n",
    "    [obj[0].text, obj[1].text,\n",
    "    obj[2].text]))\n",
    "    row_s = pd.Series(row)\n",
    "    row_s.name = i\n",
    "    df = df.append(row_s)\n",
    "search = pd.DataFrame.duplicated(df)\n",
    "print (df)\n",
    "print\n",
    "print (search[search == True])"
   ]
  },
  {
   "cell_type": "code",
   "execution_count": 22,
   "metadata": {},
   "outputs": [
    {
     "name": "stdout",
     "output_type": "stream",
     "text": [
      "  Number  String Boolean\n",
      "0      1   First    True\n",
      "3      2  Second    True\n",
      "5      3   Third    True\n"
     ]
    }
   ],
   "source": [
    "#removing duplicate\n",
    "print (df.drop_duplicates())"
   ]
  },
  {
   "cell_type": "code",
   "execution_count": 23,
   "metadata": {},
   "outputs": [],
   "source": [
    "#create datamap and data plan"
   ]
  },
  {
   "cell_type": "code",
   "execution_count": 25,
   "metadata": {},
   "outputs": [
    {
     "name": "stdout",
     "output_type": "stream",
     "text": [
      "      B                                               C                      \\\n",
      "  count mean       std  min   25%  50%   75%  max count mean       std  min   \n",
      "A                                                                             \n",
      "0   5.0  3.0  1.581139  1.0  2.00  3.0  4.00  5.0   5.0  2.8  1.788854  1.0   \n",
      "1   2.0  3.5  2.121320  2.0  2.75  3.5  4.25  5.0   2.0  2.5  0.707107  2.0   \n",
      "\n",
      "                         \n",
      "    25%  50%   75%  max  \n",
      "A                        \n",
      "0  1.00  3.0  4.00  5.0  \n",
      "1  2.25  2.5  2.75  3.0  \n"
     ]
    }
   ],
   "source": [
    "import pandas as pd\n",
    "df = pd.DataFrame({'A': [0,0,0,0,0,1,1],\n",
    "'B': [1,2,3,5,4,2,5],\n",
    "'C': [5,3,4,1,1,2,3]})\n",
    "a_group_desc = df.groupby('A').describe()\n",
    "print (a_group_desc)"
   ]
  },
  {
   "cell_type": "code",
   "execution_count": 27,
   "metadata": {},
   "outputs": [
    {
     "name": "stdout",
     "output_type": "stream",
     "text": [
      "          A\n",
      "B  count  0    5.000000\n",
      "          1    2.000000\n",
      "   mean   0    3.000000\n",
      "          1    3.500000\n",
      "   std    0    1.581139\n",
      "          1    2.121320\n",
      "   min    0    1.000000\n",
      "          1    2.000000\n",
      "   25%    0    2.000000\n",
      "          1    2.750000\n",
      "   50%    0    3.000000\n",
      "          1    3.500000\n",
      "   75%    0    4.000000\n",
      "          1    4.250000\n",
      "   max    0    5.000000\n",
      "          1    5.000000\n",
      "C  count  0    5.000000\n",
      "          1    2.000000\n",
      "   mean   0    2.800000\n",
      "          1    2.500000\n",
      "   std    0    1.788854\n",
      "          1    0.707107\n",
      "   min    0    1.000000\n",
      "          1    2.000000\n",
      "   25%    0    1.000000\n",
      "          1    2.250000\n",
      "   50%    0    3.000000\n",
      "          1    2.500000\n",
      "   75%    0    4.000000\n",
      "          1    2.750000\n",
      "   max    0    5.000000\n",
      "          1    3.000000\n",
      "dtype: float64\n"
     ]
    }
   ],
   "source": [
    "unstacked = a_group_desc.unstack()\n",
    "print (unstacked)"
   ]
  },
  {
   "cell_type": "code",
   "execution_count": 31,
   "metadata": {},
   "outputs": [
    {
     "name": "stdout",
     "output_type": "stream",
     "text": [
      "      B          C     \n",
      "  count mean count mean\n",
      "A                      \n",
      "0   5.0  3.0   5.0  2.8\n",
      "1   2.0  3.5   2.0  2.5\n"
     ]
    }
   ],
   "source": [
    "unstacked = a_group_desc.unstack()\n",
    "print (a_group_desc.loc[:,(slice(None),['count','mean']),])"
   ]
  },
  {
   "cell_type": "code",
   "execution_count": 35,
   "metadata": {},
   "outputs": [
    {
     "name": "stdout",
     "output_type": "stream",
     "text": [
      "0     Blue\n",
      "1      Red\n",
      "2    Green\n",
      "dtype: category\n",
      "Categories (3, object): [Blue, Green, Red]\n",
      "0      NaN\n",
      "1    Green\n",
      "2      Red\n",
      "3     Blue\n",
      "4      NaN\n",
      "dtype: category\n",
      "Categories (3, object): [Blue, Green, Red]\n",
      "0    True\n",
      "4    True\n",
      "dtype: bool\n"
     ]
    }
   ],
   "source": [
    "#categorical variable\n",
    "import pandas as pd\n",
    "car_colors = pd.Series(['Blue', 'Red', 'Green'],\n",
    "dtype='category')\n",
    "car_data = pd.Series(\n",
    "pd.Categorical(['Yellow', 'Green', 'Red', 'Blue',\n",
    "'Purple'],\n",
    "categories=car_colors, ordered=False))\n",
    "find_entries = pd.isnull(car_data)\n",
    "print (car_colors)\n",
    "print\n",
    "print (car_data)\n",
    "print\n",
    "print (find_entries[find_entries == True])"
   ]
  },
  {
   "cell_type": "code",
   "execution_count": 37,
   "metadata": {},
   "outputs": [
    {
     "name": "stdout",
     "output_type": "stream",
     "text": [
      "1    Red\n",
      "3    Red\n",
      "5    Red\n",
      "dtype: category\n",
      "Categories (3, object): [Blue_Red, Red, Green]\n",
      "0    Blue_Red\n",
      "1    Blue_Red\n",
      "2       Green\n",
      "3    Blue_Red\n",
      "4       Green\n",
      "5    Blue_Red\n",
      "dtype: category\n",
      "Categories (3, object): [Blue_Red, Red, Green]\n"
     ]
    },
    {
     "name": "stderr",
     "output_type": "stream",
     "text": [
      "C:\\Users\\cmedeiros\\AppData\\Local\\Continuum\\anaconda3\\lib\\site-packages\\ipykernel_launcher.py:10: DeprecationWarning: \n",
      ".ix is deprecated. Please use\n",
      ".loc for label based indexing or\n",
      ".iloc for positional indexing\n",
      "\n",
      "See the documentation here:\n",
      "http://pandas.pydata.org/pandas-docs/stable/indexing.html#ix-indexer-is-deprecated\n",
      "  # Remove the CWD from sys.path while we load stuff.\n",
      "C:\\Users\\cmedeiros\\AppData\\Local\\Continuum\\anaconda3\\lib\\site-packages\\ipykernel_launcher.py:11: DeprecationWarning: \n",
      ".ix is deprecated. Please use\n",
      ".loc for label based indexing or\n",
      ".iloc for positional indexing\n",
      "\n",
      "See the documentation here:\n",
      "http://pandas.pydata.org/pandas-docs/stable/indexing.html#ix-indexer-is-deprecated\n",
      "  # This is added back by InteractiveShellApp.init_path()\n"
     ]
    }
   ],
   "source": [
    "#renaming levels\n",
    "import pandas as pd\n",
    "car_colors = pd.Series(['Blue', 'Red', 'Green'],\n",
    "dtype='category')\n",
    "car_data = pd.Series(\n",
    "pd.Categorical(\n",
    "['Blue', 'Green', 'Red', 'Green', 'Red', 'Green'],\n",
    "categories=car_colors, ordered=False))\n",
    "car_data.cat.categories = [\"Blue_Red\", \"Red\", \"Green\"]\n",
    "print (car_data.ix[car_data.isin(['Red'])])\n",
    "car_data.ix[car_data.isin(['Red'])] = 'Blue_Red'\n",
    "print\n",
    "print (car_data)"
   ]
  },
  {
   "cell_type": "code",
   "execution_count": null,
   "metadata": {},
   "outputs": [],
   "source": []
  },
  {
   "cell_type": "code",
   "execution_count": null,
   "metadata": {},
   "outputs": [],
   "source": []
  }
 ],
 "metadata": {
  "kernelspec": {
   "display_name": "Python 3",
   "language": "python",
   "name": "python3"
  },
  "language_info": {
   "codemirror_mode": {
    "name": "ipython",
    "version": 3
   },
   "file_extension": ".py",
   "mimetype": "text/x-python",
   "name": "python",
   "nbconvert_exporter": "python",
   "pygments_lexer": "ipython3",
   "version": "3.7.3"
  }
 },
 "nbformat": 4,
 "nbformat_minor": 2
}
